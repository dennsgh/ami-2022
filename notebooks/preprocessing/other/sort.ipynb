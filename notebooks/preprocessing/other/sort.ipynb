{
 "cells": [
  {
   "cell_type": "markdown",
   "id": "db6f7a3d",
   "metadata": {},
   "source": []
  },
  {
   "cell_type": "markdown",
   "id": "3ed350e5",
   "metadata": {},
   "source": [
    "<a id=\"title_1\"></a>\n",
    "## 1. Imports\n",
    "<br />\n",
    "\n",
    "Required imports and loading image data."
   ]
  },
  {
   "cell_type": "code",
   "execution_count": 3,
   "id": "a887bbe9",
   "metadata": {},
   "outputs": [],
   "source": [
    "import json\n",
    "from pathlib import Path\n",
    "import shutil"
   ]
  },
  {
   "cell_type": "code",
   "execution_count": 5,
   "id": "319699d6",
   "metadata": {},
   "outputs": [],
   "source": [
    "# get current working directory\n",
    "\n",
    "data = json.load(open(Path('../restructured_w_original_labels.json')))\n"
   ]
  },
  {
   "cell_type": "code",
   "execution_count": 6,
   "id": "c2cce616",
   "metadata": {},
   "outputs": [
    {
     "name": "stdout",
     "output_type": "stream",
     "text": [
      "#categories: 4\n",
      "#images: 9585\n",
      "#annotations: 897\n",
      "Classes: ['dent', 'other', 'rim', 'scratch']\n"
     ]
    }
   ],
   "source": [
    "# get informations\n",
    "categories = data['categories']\n",
    "images = data['images']\n",
    "annotations = data['annotations']\n",
    "\n",
    "print(f\"#categories: {len(categories)}\")\n",
    "print(f\"#images: {len(images)}\")\n",
    "print(f\"#annotations: {len(annotations)}\")\n",
    "print(f'Classes: {[x[\"name\"] for x in categories]}')"
   ]
  },
  {
   "cell_type": "markdown",
   "id": "c83e4b86",
   "metadata": {},
   "source": [
    "<a id=\"title_2\"></a>\n",
    "## 2. Setting up your directory\n",
    "<br />\n",
    "\n",
    "The following block depends on your operating system."
   ]
  },
  {
   "cell_type": "code",
   "execution_count": 7,
   "id": "ab29ecd2",
   "metadata": {},
   "outputs": [
    {
     "name": "stdout",
     "output_type": "stream",
     "text": [
      "Folder ../../data/sort/dent was created\n",
      "Folder ../../data/sort/other was created\n",
      "Folder ../../data/sort/rim was created\n",
      "Folder ../../data/sort/scratch was created\n"
     ]
    }
   ],
   "source": [
    "for entry in data[\"categories\"]:\n",
    "    path = Path(\"../../../data/sort\",entry[\"name\"])\n",
    "    try:\n",
    "        path.mkdir(parents=True, exist_ok=False)\n",
    "    except FileExistsError:\n",
    "        print(f\"Folder {path} is already there\")\n",
    "    else:\n",
    "        print(f\"Folder {path} was created\")"
   ]
  },
  {
   "cell_type": "markdown",
   "id": "6eef5eb8",
   "metadata": {},
   "source": [
    "#### 2.2 Move all files to the correct folder\n",
    "\n",
    "If you have already moved the images you can skip this part."
   ]
  },
  {
   "cell_type": "code",
   "execution_count": 8,
   "id": "d06213e4",
   "metadata": {},
   "outputs": [
    {
     "name": "stdout",
     "output_type": "stream",
     "text": [
      "[]\n"
     ]
    }
   ],
   "source": [
    "missing_set = []\n",
    "# loop over all annotations\n",
    "for annotation in annotations:\n",
    "\n",
    "    # try:\n",
    "    # get image informations\n",
    "    id = annotation['id']\n",
    "    category_id = annotation['category_id']\n",
    "    category_name = categories[category_id]['name']\n",
    "\n",
    "    # move file to correct directory\n",
    "    current_image = Path(\"../../../data\", annotation[\"filepath\"])\n",
    "\n",
    "    if not current_image.is_file():\n",
    "        missing_set.append(annotation[\"filepath\"])\n",
    "        continue\n",
    "\n",
    "    to_path = Path(\"../../../data/sort\", category_name, f'{id}.png')\n",
    "    to_path.parent.mkdir(parents=True, exist_ok=True)\n",
    "\n",
    "    # move file\n",
    "    shutil.copyfile(current_image, to_path)\n",
    "    # except:\n",
    "    # pass\n",
    "print(missing_set)"
   ]
  }
 ],
 "metadata": {
  "kernelspec": {
   "display_name": "Python 3.10.0 64-bit",
   "language": "python",
   "name": "python3"
  },
  "language_info": {
   "codemirror_mode": {
    "name": "ipython",
    "version": 3
   },
   "file_extension": ".py",
   "mimetype": "text/x-python",
   "name": "python",
   "nbconvert_exporter": "python",
   "pygments_lexer": "ipython3",
   "version": "3.10.0"
  },
  "vscode": {
   "interpreter": {
    "hash": "facbfb72ab3fb093375d13a4870f27708d9ea0fe2afa933bc717ee0c9bb99b7d"
   }
  }
 },
 "nbformat": 4,
 "nbformat_minor": 5
}
