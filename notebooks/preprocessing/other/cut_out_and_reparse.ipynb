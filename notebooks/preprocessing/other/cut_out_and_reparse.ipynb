{
 "cells": [
  {
   "cell_type": "code",
   "execution_count": 1,
   "metadata": {},
   "outputs": [],
   "source": [
    "import json\n",
    "import PIL\n",
    "from PIL import Image\n",
    "import numpy as np\n",
    "import matplotlib.pyplot as plt\n",
    "import pandas\n",
    "from pathlib import Path\n",
    "import os"
   ]
  },
  {
   "cell_type": "markdown",
   "metadata": {},
   "source": [
    "The steps:\n",
    "1. Get a list of the ids\n",
    "2. Get a list of image id's pointing to images ls\n",
    "\n",
    "\n",
    "Make sure your cwd is in /notebooks/preprocessing/. "
   ]
  },
  {
   "cell_type": "code",
   "execution_count": 1,
   "metadata": {},
   "outputs": [
    {
     "ename": "NameError",
     "evalue": "name 'Path' is not defined",
     "output_type": "error",
     "traceback": [
      "\u001b[1;31m---------------------------------------------------------------------------\u001b[0m",
      "\u001b[1;31mNameError\u001b[0m                                 Traceback (most recent call last)",
      "\u001b[1;32md:\\source\\Group04\\notebooks\\preprocessing\\other\\cut_out_and_reparse.ipynb Cell 3\u001b[0m in \u001b[0;36m<cell line: 1>\u001b[1;34m()\u001b[0m\n\u001b[1;32m----> <a href='vscode-notebook-cell:/d%3A/source/Group04/notebooks/preprocessing/other/cut_out_and_reparse.ipynb#W2sZmlsZQ%3D%3D?line=0'>1</a>\u001b[0m file \u001b[39m=\u001b[39m \u001b[39mopen\u001b[39m(Path(\u001b[39m\"\u001b[39m\u001b[39m../..\u001b[39m\u001b[39m\"\u001b[39m, \u001b[39m\"\u001b[39m\u001b[39metc\u001b[39m\u001b[39m\"\u001b[39m, \u001b[39m\"\u001b[39m\u001b[39moriginal.json\u001b[39m\u001b[39m\"\u001b[39m))\n\u001b[0;32m      <a href='vscode-notebook-cell:/d%3A/source/Group04/notebooks/preprocessing/other/cut_out_and_reparse.ipynb#W2sZmlsZQ%3D%3D?line=1'>2</a>\u001b[0m original \u001b[39m=\u001b[39m json\u001b[39m.\u001b[39mload(file)\n\u001b[0;32m      <a href='vscode-notebook-cell:/d%3A/source/Group04/notebooks/preprocessing/other/cut_out_and_reparse.ipynb#W2sZmlsZQ%3D%3D?line=2'>3</a>\u001b[0m path \u001b[39m=\u001b[39m Path\u001b[39m.\u001b[39mcwd() \u001b[39m/\u001b[39m \u001b[39m'\u001b[39m\u001b[39m..\u001b[39m\u001b[39m'\u001b[39m \u001b[39m/\u001b[39m \u001b[39m'\u001b[39m\u001b[39m..\u001b[39m\u001b[39m'\u001b[39m \u001b[39m/\u001b[39m \u001b[39m'\u001b[39m\u001b[39m..\u001b[39m\u001b[39m'\u001b[39m \u001b[39m/\u001b[39m \u001b[39m'\u001b[39m\u001b[39mdata\u001b[39m\u001b[39m'\u001b[39m \u001b[39m/\u001b[39m \u001b[39m'\u001b[39m\u001b[39mcropped\u001b[39m\u001b[39m'\u001b[39m\n",
      "\u001b[1;31mNameError\u001b[0m: name 'Path' is not defined"
     ]
    }
   ],
   "source": [
    "file = open(Path(\"../original.json\"))\n",
    "original = json.load(file)\n",
    "path = Path(\"../../../data/cropped/\")\n",
    "try:\n",
    "    path.mkdir(parents=True, exist_ok=False)\n",
    "except FileExistsError:\n",
    "    print(\"Folder is already there\")\n",
    "else:\n",
    "    print(\"Folder was created\")"
   ]
  },
  {
   "cell_type": "code",
   "execution_count": 3,
   "metadata": {},
   "outputs": [
    {
     "name": "stdout",
     "output_type": "stream",
     "text": [
      "Length of image id's 130\n"
     ]
    }
   ],
   "source": [
    "id_list = []\n",
    "same_images = []\n",
    "\n",
    "for entry in original[\"annotations\"]:\n",
    "    if entry['id'] not in id_list:\n",
    "        id_list.append(entry['id'])\n",
    "\n",
    "#populate ph with image id's that has more than 1 image connected to it!\n",
    "ph =[]\n",
    "for entry in original[\"annotations\"]:\n",
    "    for entry2 in original[\"annotations\"]:\n",
    "        if entry2['image_id'] == entry['image_id'] and entry['id'] != entry2['id'] and entry[\"image_id\"] not in ph:\n",
    "            ph.append(entry2['image_id'])\n",
    "        \n",
    "for _ in ph:\n",
    "    tmp = [_]\n",
    "    same_images.append(tmp)\n",
    "    \n",
    "\n",
    "for entry in original[\"annotations\"]:\n",
    "    im_id = entry['image_id']\n",
    "    id = entry['id']\n",
    "    for list in same_images:\n",
    "        if im_id in list and id not in list:\n",
    "            list.append(id)\n",
    "\n",
    "\n",
    "print(r\"Length of image id's {}\".format(len(same_images)))"
   ]
  },
  {
   "cell_type": "code",
   "execution_count": null,
   "metadata": {},
   "outputs": [],
   "source": []
  },
  {
   "cell_type": "code",
   "execution_count": 4,
   "metadata": {},
   "outputs": [
    {
     "name": "stdout",
     "output_type": "stream",
     "text": [
      "[[7073954, 504081, 504082], [7036543, 504300, 504301], [7026503, 504147, 504148], [7025381, 504093, 504094], [7036076, 504284, 504285], [7025641, 504115, 504116], [7048995, 504480, 504481], [7035006, 504260, 504261, 504262], [7049171, 504486, 504487, 504488], [7060866, 504632, 504633], [7041047, 504400, 504401], [7070717, 504784, 504785, 504786], [7038349, 504355, 504356], [7070122, 504766, 504767], [7074046, 504084, 504085], [7054613, 504022, 504023], [7038293, 504335, 504336], [7034548, 504239, 504240], [7068630, 504718, 504719], [7071722, 504838, 504839], [7038251, 504328, 504329], [7038267, 504331, 504332], [7038425, 504362, 504363], [7034714, 504246, 504247], [7072864, 504073, 504074], [7070917, 504799, 504800, 504801], [7072506, 504855, 504856], [7041084, 504402, 504403], [7070287, 504774, 504775], [7029096, 504190, 504191], [7050345, 504012, 504013], [7035038, 504264, 504265], [7071864, 504842, 504843], [7058575, 504569, 504570], [7030895, 503994, 503995, 503996], [7072082, 504846, 504847], [7071604, 504833, 504834, 504835], [7030892, 504203, 504204], [7049205, 504489, 504490], [7038407, 504358, 504359, 504360], [7026376, 504133, 504134], [7060269, 504617, 504618], [7037733, 504317, 504318], [7036477, 504296, 504297], [7068667, 504724, 504725, 504726], [7048713, 504473, 504474], [7038327, 504345, 504346], [7068654, 504722, 504723], [7063020, 504659, 504660], [7070285, 504771, 504772, 504773], [7072476, 504070, 504071], [7030703, 504199, 504200], [7026458, 504144, 504145], [7058583, 504571, 504572], [7054203, 504020, 504021], [7070121, 504764, 504765], [7025392, 504096, 504097], [7050001, 504495, 504496, 504497], [7062166, 504650, 504651], [7061806, 504644, 504645], [7070386, 504777, 504778, 504779], [7059143, 504595, 504596], [7026385, 504135, 504136], [7071297, 504829, 504830], [7034568, 504243, 504244], [7071030, 504814, 504815, 504816, 504817], [7060061, 504613, 504614], [7071020, 504811, 504812], [7072891, 504857, 504858], [7056192, 504033, 504034], [7048678, 504468, 504469], [7026440, 504140, 504141, 504142], [7026542, 504153, 504154, 504155], [7071295, 504825, 504826, 504827, 504828], [7068641, 504720, 504721], [7044755, 504429, 504430], [7070814, 504794, 504795], [7038162, 504324, 504325], [7066180, 504694, 504695], [7059041, 504587, 504588], [7056347, 504541, 504542], [7034560, 504241, 504242], [7025566, 504109, 504110], [7036406, 504293, 504294], [7050517, 504015, 504016], [7070891, 504796, 504797], [7070191, 504768, 504769], [7071798, 504840, 504841], [7064776, 504676, 504677], [7070810, 504790, 504791, 504792, 504793], [7062011, 504647, 504648], [7071007, 504803, 504804, 504805, 504806], [7069916, 504752, 504753], [7068864, 504732, 504733, 504734], [7055080, 504026, 504027], [7048683, 504470, 504471], [7068764, 504727, 504728], [7073191, 504864, 504865], [7038325, 504343, 504344], [7060597, 504624, 504625], [7041117, 504407, 504408], [7035822, 504278, 504279], [7038437, 504366, 504367], [7068852, 504729, 504730, 504731], [7068889, 504735, 504736], [7038439, 504369, 504370], [7069823, 504745, 504746, 504747], [7074812, 504877, 504878, 504879], [7025746, 504124, 504125], [7044212, 504417, 504418], [7069567, 504739, 504740], [7074781, 504875, 504876], [7034376, 504237, 504238], [7072928, 504859, 504860], [7049780, 504493, 504494], [7038479, 504372, 504373], [7072086, 504848, 504849], [7070036, 504756, 504757, 504758, 504759, 504760, 504761], [7069828, 504748, 504749], [7029059, 504188, 504189], [7026519, 504150, 504151, 504152], [7065085, 504683, 504684, 504685], [7031100, 504210, 504211], [7038482, 504374, 504375], [7057523, 504036, 504037], [7044707, 504425, 504426], [7048595, 504461, 504462, 504463], [7038335, 504347, 504348, 504349, 504350], [7071010, 504807, 504808, 504809], [7038343, 504352, 504353]]\n"
     ]
    }
   ],
   "source": [
    "#The list same images will hold lists that contain (image_id, all other id's pertaining to this image id)\n",
    "print(same_images)\n"
   ]
  },
  {
   "cell_type": "code",
   "execution_count": 5,
   "metadata": {},
   "outputs": [],
   "source": [
    "def crop_region(image: np.array, bounding_box) -> np.array:\n",
    "    \"\"\"\n",
    "\n",
    "    Args:\n",
    "        image: numpy type\n",
    "        bounding_box: Integer\n",
    "\n",
    "    Returns: numpy type\n",
    "\n",
    "    \"\"\"\n",
    "    x_min, y_min, x_range, y_range = bounding_box\n",
    "\n",
    "    _ = np.flipud(image[x_min:x_min + x_range, y_min:y_min + y_range])\n",
    "    _ = np.rot90(_,k=3)\n",
    "\n",
    "    return _\n"
   ]
  },
  {
   "cell_type": "code",
   "execution_count": 6,
   "metadata": {},
   "outputs": [],
   "source": [
    "image_root = Path(\"..\",\"..\",\"data\",\"Images\")"
   ]
  },
  {
   "cell_type": "markdown",
   "metadata": {},
   "source": [
    "1. Go through all the images in the same_images list\n",
    "2. Recrop, if the name already exists give a suffix with the image_id"
   ]
  },
  {
   "cell_type": "code",
   "execution_count": 7,
   "metadata": {},
   "outputs": [
    {
     "name": "stdout",
     "output_type": "stream",
     "text": [
      "Count of overlap set is 295\n"
     ]
    }
   ],
   "source": [
    "#Unpack to tuple for ease of use\n",
    "\n",
    "overlap = []\n",
    "for list in same_images:\n",
    "    for item in list:\n",
    "        # First element is image_id\n",
    "        if item == list[0]:\n",
    "            continue\n",
    "        ################################\n",
    "        # From here it'll always take id from the list\n",
    "        overlap.append((list[0],item))\n",
    "\n",
    "print(r\"Count of overlap set is {}\".format(len(overlap)))\n",
    "\n",
    "#After cropping this number should match the number of entries in overlap.json"
   ]
  },
  {
   "cell_type": "code",
   "execution_count": null,
   "metadata": {},
   "outputs": [],
   "source": []
  },
  {
   "cell_type": "code",
   "execution_count": 8,
   "metadata": {},
   "outputs": [
    {
     "name": "stdout",
     "output_type": "stream",
     "text": [
      "602\n",
      "897\n",
      "Count of disjunct set matches original json entries\n"
     ]
    }
   ],
   "source": [
    "non_overlap = []\n",
    "for entry in original[\"annotations\"]:\n",
    "    if (entry[\"image_id\"],entry[\"id\"]) not in overlap:\n",
    "        non_overlap.append((entry[\"image_id\"], entry[\"id\"]))\n",
    "print(len(non_overlap))\n",
    "print(len(overlap) + len(non_overlap))\n",
    "if(len(overlap) + len(non_overlap) == len(original[\"annotations\"])):\n",
    "    print(\"Count of disjunct set matches original json entries\")\n"
   ]
  },
  {
   "cell_type": "code",
   "execution_count": 9,
   "metadata": {},
   "outputs": [
    {
     "name": "stdout",
     "output_type": "stream",
     "text": [
      "1\n",
      "9585\n",
      "897\n"
     ]
    }
   ],
   "source": [
    "# Set up new json\n",
    "# open JSON file\n",
    "categories = original['categories']\n",
    "images = original['images']\n",
    "annotations = original['annotations']\n",
    "\n",
    "# key image ids as key for dict\n",
    "images_keys = [img['id'] for img in images]\n",
    "\n",
    "# get dictionary for filenames\n",
    "images_dict = dict(zip(images_keys, images))\n",
    "# creat a new json file to store the new infomation\n",
    "\n",
    "print(len(categories))\n",
    "print(len(images))\n",
    "print(len(annotations))\n"
   ]
  },
  {
   "cell_type": "code",
   "execution_count": 10,
   "metadata": {},
   "outputs": [
    {
     "name": "stdout",
     "output_type": "stream",
     "text": [
      "897\n"
     ]
    }
   ],
   "source": [
    "newfile = {\n",
    "    \"categories\": [{\n",
    "        \"id\": 0,\n",
    "        \"name\": \"dent\"\n",
    "    }, {\n",
    "        \"id\": 1,\n",
    "        \"name\": \"other\"\n",
    "    }, {\n",
    "        \"id\": 2,\n",
    "        \"name\": \"rim\"\n",
    "    }, {\n",
    "        \"id\": 3,\n",
    "        \"name\": \"scratch\"\n",
    "    }, {\n",
    "        \"id\": 4,\n",
    "        \"name\": \"deformation\"\n",
    "    }],\n",
    "    \"images\": [],\n",
    "    \"annotations\": []\n",
    "}\n",
    "\n",
    "# Deal with non overlapping ones first\n",
    "\n",
    "# take prelabeled labels and put them by image_id(because they are non overlap and unique)\n",
    "\n",
    "#from 600-896 (1 to 897 in total, index from 0)\n",
    "pre_den = json.load(open(Path(\"..\", \"etc\", \"prelabeled_den.json\")))\n",
    "#from 300-599\n",
    "pre_mag = json.load(open(Path(\"..\", \"etc\", \"prelabeled_mag.json\")))\n",
    "#from 0-299\n",
    "#pre_thu = json.load(open(Path(\"..\", \"etc\", \"prelabeled_thu.json\")))\n",
    "stitched = {\"annotations\": []}\n",
    "\n",
    "for i in range(300):\n",
    "    stitched[\"annotations\"].append(pre_mag[\"annotations\"][i])\n",
    "\n",
    "for i in range(300,600):\n",
    "    stitched[\"annotations\"].append(pre_mag[\"annotations\"][i])\n",
    "\n",
    "for i in range(600,897):\n",
    "    stitched[\"annotations\"].append(pre_den[\"annotations\"][i])\n",
    "\n",
    "print(len(stitched[\"annotations\"]))\n"
   ]
  },
  {
   "cell_type": "code",
   "execution_count": 11,
   "metadata": {},
   "outputs": [
    {
     "name": "stdout",
     "output_type": "stream",
     "text": [
      "897 entries matched, valid\n",
      "725 entries were relabeled.\n"
     ]
    }
   ],
   "source": [
    "count =0\n",
    "relabeled_count=0\n",
    "for newentry in stitched[\"annotations\"]:\n",
    "    for entry in original[\"annotations\"]:\n",
    "        if(entry[\"id\"] == newentry[\"id\"]):\n",
    "            count+=1\n",
    "            if(entry[\"category_id\"] != newentry[\"category_id\"]):\n",
    "                relabeled_count+=1\n",
    "if count == len(original[\"annotations\"]):\n",
    "    print(r\"{} entries matched, valid\".format(count))\n",
    "\n",
    "print(r\"{} entries were relabeled.\".format(relabeled_count))"
   ]
  },
  {
   "cell_type": "code",
   "execution_count": 12,
   "metadata": {},
   "outputs": [],
   "source": [
    "problem_set = []\n",
    "\n",
    "def get_labeled_category(id,img_id):\n",
    "    for entry in stitched[\"annotations\"]:\n",
    "        if entry[\"id\"] == id and entry[\"image_id\"] == img_id:\n",
    "            return entry[\"category_id\"]\n",
    "    print(\"Not found!\")\n",
    "    problem_set.append((id, img_id))\n",
    "\n",
    "\n",
    "images_entries = original[\"images\"]\n",
    "cropped_path = Path(\"..\", \"..\", \"data\", \"cropped\")\n"
   ]
  },
  {
   "cell_type": "code",
   "execution_count": 13,
   "metadata": {},
   "outputs": [
    {
     "name": "stdout",
     "output_type": "stream",
     "text": [
      "No problems found.\n"
     ]
    }
   ],
   "source": [
    "#only need the annotations entries since the rest are obsolete\n",
    "\n",
    "\n",
    "for entry in original[\"annotations\"]:\n",
    "    if((entry[\"image_id\"],entry[\"id\"]) in non_overlap ):\n",
    "        # Only access images in the list\n",
    "        id = entry[\"id\"]\n",
    "        image_id = entry['image_id']\n",
    "        bounding_box = entry['bbox']\n",
    "        filename = images_dict[image_id]['file_name']\n",
    "        fp = Path(image_root, filename)\n",
    "        #ONLY get the category_id from prelabeled ones for NON overlap, overlap ones need relabeling, and shall be marked with category_id 1\n",
    "        category_id = get_labeled_category(id,image_id)\n",
    "        img = Image.open(fp)\n",
    "        numpy_image = np.transpose(np.array(img), (1, 0, 2))\n",
    "        cropped_image = crop_region(numpy_image, bounding_box)\n",
    "        cropped_image = Image.fromarray(cropped_image)\n",
    "\n",
    "        save_path = Path(cropped_path,str(id)+\".png\")\n",
    "        i=0\n",
    "        while(1):\n",
    "            # IF NAMING using ID IS UNIQUE then there would be NO images with suffix _0 , _1 etc ...\n",
    "            if Path(save_path).is_file():\n",
    "                print(r\"File {} already exists.\".format(save_path))\n",
    "                save_path = Path(cropped_path, str(id) + \"_\" + str(i) + \".png\")\n",
    "                i += 1\n",
    "                continue\n",
    "            break\n",
    "        cropped_image.save(save_path)\n",
    "        save_path = save_path.relative_to(\"../../data/\").as_posix()\n",
    "        fp = fp.relative_to(\"../../data\").as_posix()\n",
    "        # Fill out the data\n",
    "        # image id refers to the source, non cropped image\n",
    "        new_annotation = {\n",
    "            \"id\": id,\n",
    "            \"category_id\": category_id,\n",
    "            'image_id': image_id,\n",
    "            'filepath': save_path,\n",
    "            'source': fp,\n",
    "            \"bbox\": bounding_box\n",
    "        }\n",
    "\n",
    "        newfile['annotations'].append(new_annotation)\n",
    "        \n",
    "if(len(problem_set) ==0 ):\n",
    "    print(\"No problems found.\")"
   ]
  },
  {
   "cell_type": "code",
   "execution_count": 14,
   "metadata": {},
   "outputs": [],
   "source": [
    "#only need the annotations entries since the rest are obsolete\n",
    "\n",
    "for entry in original[\"annotations\"]:\n",
    "    if ((entry[\"image_id\"], entry[\"id\"]) in overlap):\n",
    "        # Only access images in the list\n",
    "        id = entry[\"id\"]\n",
    "        image_id = entry['image_id']\n",
    "        bounding_box = entry['bbox']\n",
    "        filename = images_dict[image_id]['file_name']\n",
    "        fp = Path(image_root, filename)\n",
    "        #ONLY get the category_id from prelabeled ones for NON overlap, overlap ones need relabeling, and shall be marked with category_id 1\n",
    "        img = Image.open(fp)\n",
    "        numpy_image = np.transpose(np.array(img), (1, 0, 2))\n",
    "        cropped_image = crop_region(numpy_image, bounding_box)\n",
    "        cropped_image = Image.fromarray(cropped_image)\n",
    "\n",
    "        save_path = Path(cropped_path, str(id) + \".png\")\n",
    "        i = 0\n",
    "        while (1):\n",
    "            # IF NAMING using ID IS UNIQUE then there would be NO images with suffix _0 , _1 etc ...\n",
    "            if Path(save_path).is_file():\n",
    "                print(r\"File {} already exists.\".format(save_path))\n",
    "                save_path = Path(cropped_path, str(id) + \"_\" + str(i) + \".png\")\n",
    "                i += 1\n",
    "                continue\n",
    "            break\n",
    "        cropped_image.save(save_path)\n",
    "        save_path = save_path.relative_to(\"../../data\").as_posix()\n",
    "        fp = fp.relative_to(\"../../data\").as_posix()\n",
    "        # Fill out the data\n",
    "        # image id refers to the source, non cropped image\n",
    "        new_annotation = {\n",
    "            \"id\": id,\n",
    "            \"category_id\": 1,\n",
    "            'image_id': image_id,\n",
    "            'filepath': save_path,\n",
    "            'source': fp,\n",
    "            \"bbox\": bounding_box\n",
    "        }\n",
    "\n",
    "        newfile['annotations'].append(new_annotation)\n"
   ]
  },
  {
   "cell_type": "code",
   "execution_count": 15,
   "metadata": {},
   "outputs": [],
   "source": [
    "for entry in original[\"images\"]:\n",
    "    fp = Path(image_root,entry['file_name'])\n",
    "    fp = fp.relative_to(\"../../data\").as_posix()\n",
    "    new_images = {\n",
    "        \"id\": entry['id'],\n",
    "        \"filepath\": fp,\n",
    "        \"width\": entry['width'],\n",
    "        \"height\": entry['height']\n",
    "    }\n",
    "    newfile['images'].append(new_images)"
   ]
  },
  {
   "cell_type": "code",
   "execution_count": 16,
   "metadata": {},
   "outputs": [],
   "source": [
    "# Converting dictionaries to json\n",
    "json_test = json.dumps(newfile)\n",
    "with open('restructured.json', 'w') as json_file:\n",
    "    json_file.write(json_test)"
   ]
  }
 ],
 "metadata": {
  "kernelspec": {
   "display_name": "Python 3.10.0 64-bit",
   "language": "python",
   "name": "python3"
  },
  "language_info": {
   "codemirror_mode": {
    "name": "ipython",
    "version": 3
   },
   "file_extension": ".py",
   "mimetype": "text/x-python",
   "name": "python",
   "nbconvert_exporter": "python",
   "pygments_lexer": "ipython3",
   "version": "3.10.0"
  },
  "orig_nbformat": 4,
  "vscode": {
   "interpreter": {
    "hash": "facbfb72ab3fb093375d13a4870f27708d9ea0fe2afa933bc717ee0c9bb99b7d"
   }
  }
 },
 "nbformat": 4,
 "nbformat_minor": 2
}
