{
 "cells": [
  {
   "cell_type": "markdown",
   "id": "2a79d64c",
   "metadata": {},
   "source": [
    "# Getting to know the dataset\n",
    "\n",
    "The goal of this notebook is to get a first impression about the dataset. You are free in the methods you want to use. The only important thing is that you record all interesting observations here and/or present them as graphs.\n",
    "\n",
    " #### [1. Image size distribution](#title_1)\n",
    "\n",
    "<hr style=\"height:2px;border-width:0;color:black;background-color:black\">"
   ]
  },
  {
   "cell_type": "code",
   "execution_count": 1,
   "id": "08ff534b",
   "metadata": {},
   "outputs": [],
   "source": [
    "# imports\n",
    "import numpy as np\n",
    "import pandas as pd\n",
    "\n",
    "import json\n",
    "from PIL import Image\n",
    "from tqdm import tqdm\n",
    "\n",
    "import seaborn as sns\n",
    "import matplotlib.pyplot as plt\n",
    "sns.set_theme()"
   ]
  },
  {
   "cell_type": "code",
   "execution_count": 2,
   "id": "fcdfb4d4",
   "metadata": {},
   "outputs": [],
   "source": [
    "# folder path\n",
    "input_path = r\"C:/Users/linya/Downloads/Data/\""
   ]
  },
  {
   "cell_type": "markdown",
   "id": "0a0a35c1",
   "metadata": {},
   "source": [
    "<a id=\"title_1\"></a>\n",
    "### 1. Image size distribution\n",
    "<br />\n",
    "\n",
    "Even without labels, we can already use initial information about the given dataset. One of this information is the size of the image. Is it possible to recognize a pattern? Scratches, for example, are often elongated and thus have a lower area than larger objects like tires. Furthermore, we can see how often certain shapes or sizes appear."
   ]
  },
  {
   "cell_type": "code",
   "execution_count": 3,
   "id": "88ad475e",
   "metadata": {},
   "outputs": [
    {
     "name": "stdout",
     "output_type": "stream",
     "text": [
      "This dictionary contains these dict_keys(['categories', 'images', 'annotations'])\n"
     ]
    }
   ],
   "source": [
    "# open JSON file\n",
    "with open(input_path + r\"Annotations/annotated_functional_test3_fixed.json\") as f:\n",
    "    data = json.load(f)\n",
    "\n",
    "print(f'This dictionary contains these {data.keys()}')\n",
    "\n",
    "categories = data['categories']\n",
    "images = data['images']\n",
    "annotations = data['annotations']"
   ]
  },
  {
   "cell_type": "code",
   "execution_count": 4,
   "id": "0dead8e4",
   "metadata": {},
   "outputs": [
    {
     "data": {
      "text/plain": [
       "<seaborn.axisgrid.FacetGrid at 0x1940b059400>"
      ]
     },
     "execution_count": 4,
     "metadata": {},
     "output_type": "execute_result"
    },
    {
     "data": {
      "image/png": "[encoded data removed]",
      "text/plain": [
       "<Figure size 360x360 with 1 Axes>"
      ]
     },
     "metadata": {},
     "output_type": "display_data"
    }
   ],
   "source": [
    "# get area size for all individual crops\n",
    "area_size = [anotation[\"area\"] for anotation in annotations]\n",
    "\n",
    "# plot distribution\n",
    "ax = sns.displot(area_size, bins=25, kde=True, log_scale=True)\n",
    "ax.set(xlabel='Image area', ylabel='Counts')"
   ]
  },
  {
   "cell_type": "markdown",
   "id": "4e8c2f0c",
   "metadata": {},
   "source": [
    "#### Observation\n",
    "We can see that we have a very strongly varying image size. Is it possible that we introduce some bias into our neural network? With many input sizes the class like tire or dent is directly linked."
   ]
  },
  {
   "cell_type": "markdown",
   "id": "fe163b19",
   "metadata": {},
   "source": [
    "### Super duper classifier"
   ]
  },
  {
   "cell_type": "code",
   "execution_count": 5,
   "id": "c7849852",
   "metadata": {},
   "outputs": [],
   "source": [
    "import random\n",
    "\n",
    "def super_duper_classifier(image: np.array)-> str:\n",
    "    \n",
    "    if np.prod(image.shape) / 3 < 1000:\n",
    "        return random.choice([\"other\", \"dent\"])\n",
    "    \n",
    "    elif np.prod(image.shape) / 3 < 3e4:\n",
    "        return \"scratch\"\n",
    "    \n",
    "    else:\n",
    "        return \"rim\""
   ]
  },
  {
   "cell_type": "code",
   "execution_count": 6,
   "id": "73946580",
   "metadata": {},
   "outputs": [
    {
     "ename": "NameError",
     "evalue": "name 'os' is not defined",
     "output_type": "error",
     "traceback": [
      "\u001b[1;31m---------------------------------------------------------------------------\u001b[0m",
      "\u001b[1;31mNameError\u001b[0m                                 Traceback (most recent call last)",
      "\u001b[1;32m~\\AppData\\Local\\Temp/ipykernel_20640/2086482448.py\u001b[0m in \u001b[0;36m<module>\u001b[1;34m\u001b[0m\n\u001b[0;32m      1\u001b[0m \u001b[1;31m# fetch random image\u001b[0m\u001b[1;33m\u001b[0m\u001b[1;33m\u001b[0m\u001b[1;33m\u001b[0m\u001b[0m\n\u001b[1;32m----> 2\u001b[1;33m \u001b[0mrandom_image\u001b[0m \u001b[1;33m=\u001b[0m \u001b[0mrandom\u001b[0m\u001b[1;33m.\u001b[0m\u001b[0mchoice\u001b[0m\u001b[1;33m(\u001b[0m\u001b[0mos\u001b[0m\u001b[1;33m.\u001b[0m\u001b[0mlistdir\u001b[0m\u001b[1;33m(\u001b[0m\u001b[1;34m\"images\"\u001b[0m\u001b[1;33m)\u001b[0m\u001b[1;33m)\u001b[0m\u001b[1;33m\u001b[0m\u001b[1;33m\u001b[0m\u001b[0m\n\u001b[0m\u001b[0;32m      3\u001b[0m \u001b[0mimage\u001b[0m \u001b[1;33m=\u001b[0m \u001b[0mImage\u001b[0m\u001b[1;33m.\u001b[0m\u001b[0mopen\u001b[0m\u001b[1;33m(\u001b[0m\u001b[0mos\u001b[0m\u001b[1;33m.\u001b[0m\u001b[0mpath\u001b[0m\u001b[1;33m.\u001b[0m\u001b[0mjoin\u001b[0m\u001b[1;33m(\u001b[0m\u001b[1;34m\"images\"\u001b[0m\u001b[1;33m,\u001b[0m \u001b[0mrandom_image\u001b[0m\u001b[1;33m)\u001b[0m\u001b[1;33m)\u001b[0m\u001b[1;33m\u001b[0m\u001b[1;33m\u001b[0m\u001b[0m\n\u001b[0;32m      4\u001b[0m \u001b[1;33m\u001b[0m\u001b[0m\n\u001b[0;32m      5\u001b[0m \u001b[0msns\u001b[0m\u001b[1;33m.\u001b[0m\u001b[0mset_theme\u001b[0m\u001b[1;33m(\u001b[0m\u001b[0mstyle\u001b[0m\u001b[1;33m=\u001b[0m\u001b[1;34m\"white\"\u001b[0m\u001b[1;33m,\u001b[0m \u001b[0mpalette\u001b[0m\u001b[1;33m=\u001b[0m\u001b[1;32mNone\u001b[0m\u001b[1;33m)\u001b[0m\u001b[1;33m\u001b[0m\u001b[1;33m\u001b[0m\u001b[0m\n",
      "\u001b[1;31mNameError\u001b[0m: name 'os' is not defined"
     ]
    }
   ],
   "source": [
    "# fetch random image\n",
    "random_image = random.choice(os.listdir(\"images\")) \n",
    "image = Image.open(os.path.join(\"images\", random_image))\n",
    "\n",
    "sns.set_theme(style=\"white\", palette=None)\n",
    "plt.imshow(image)\n",
    "\n",
    "# get prediction\n",
    "prediction = super_duper_classifier(np.array(image))\n",
    "print(f'This is a {prediction}')"
   ]
  },
  {
   "cell_type": "code",
   "execution_count": null,
   "id": "d4e98c59",
   "metadata": {},
   "outputs": [],
   "source": []
  }
 ],
 "metadata": {
  "kernelspec": {
   "display_name": "Python 3 (ipykernel)",
   "language": "python",
   "name": "python3"
  },
  "language_info": {
   "codemirror_mode": {
    "name": "ipython",
    "version": 3
   },
   "file_extension": ".py",
   "mimetype": "text/x-python",
   "name": "python",
   "nbconvert_exporter": "python",
   "pygments_lexer": "ipython3",
   "version": "3.8.12"
  }
 },
 "nbformat": 4,
 "nbformat_minor": 5
}
