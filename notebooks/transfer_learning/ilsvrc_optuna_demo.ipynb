{
 "cells": [
  {
   "cell_type": "markdown",
   "metadata": {},
   "source": [
    "# ILSVRC Pipeline Demo \n",
    " \n",
    "##### Get the new sorted dataset [here](https://tumde-my.sharepoint.com/:f:/g/personal/gohdennis_tum_de/EmooVZ4vE95Iic-HIP9-P10BzX7oIOBmRhK8Q9tYzfJWRQ?e=maOqo5) [08_Aug_2022]\n",
    "\n",
    "Annotations are stored under notebooks/preprocesing/restructured_w_original_labels.json (also in the .zip file)\n",
    "\n",
    "Extract the zip under data/.\n",
    "\n",
    "\n",
    "<hr style=\"height:2px;border-width:0;color:black;background-color:black\">\n",
    "\n",
    "This notebook will show case the functioning of the EfficientNet pipeline."
   ]
  },
  {
   "cell_type": "code",
   "execution_count": 9,
   "metadata": {},
   "outputs": [],
   "source": [
    "import tensorflow as tf\n",
    "import json\n",
    "import os\n",
    "import shutil\n",
    "from pathlib import Path\n",
    "from models.ilsvrc import EfficientNetV2S\n",
    "from pipelines.ilsvrc import EfficientNetPipeline\n",
    "from optimization.ilsvrc import ILSVRCOptunaSearch"
   ]
  },
  {
   "cell_type": "markdown",
   "metadata": {},
   "source": [
    "## I. Load Data\n",
    "To begin our showcase, we load the data from the directory, after setting it up as specified."
   ]
  },
  {
   "cell_type": "code",
   "execution_count": 10,
   "metadata": {},
   "outputs": [
    {
     "name": "stdout",
     "output_type": "stream",
     "text": [
      "Found 897 files belonging to 4 classes.\n",
      "Using 628 files for training.\n",
      "Found 897 files belonging to 4 classes.\n",
      "Using 269 files for validation.\n"
     ]
    }
   ],
   "source": [
    "image_path = Path(os.getenv(\"DATA\"), \"sort\")\n",
    "\n",
    "train_ds = tf.keras.utils.image_dataset_from_directory(directory=image_path,\n",
    "                                                       validation_split=0.3,\n",
    "                                                       subset='training',\n",
    "                                                       seed=0,\n",
    "                                                       image_size=(224, 224))\n",
    "val_ds = tf.keras.utils.image_dataset_from_directory(directory=image_path,\n",
    "                                                     validation_split=0.3,\n",
    "                                                     subset='validation',\n",
    "                                                     seed=0,\n",
    "                                                     image_size=(224, 224))\n",
    "\n",
    "# get current working directory"
   ]
  },
  {
   "cell_type": "markdown",
   "metadata": {},
   "source": [
    "## II. Configuring the Pipeline\n",
    "\n",
    "Before we run the pipeline, we need to configure the model and the pipeline hyperparameters. The model parameters are mostly self explanatory, pooling_type refers to the pooling layer between the final base model layer and the first top network layer.\n",
    "\n",
    "The pipeline config feature the following notable parameters:\n",
    "- epochs: max number of epochs. Early stopping might cut the training of.\n",
    "- model_name: directory name, where the run is to be executed\n",
    "- store_model: stores the best model iteration as a checkpoint\n",
    "- patience: after how many epochs without improvement in val_loss the operation should stop\n",
    "- callbacks: if needed additional callbacks can be passed as a list\n",
    "- custom_objects: dictionary pointing to custom objectes for the compiler configuration\n",
    "- save_weights_only: stores entire model if False"
   ]
  },
  {
   "cell_type": "code",
   "execution_count": 11,
   "metadata": {},
   "outputs": [],
   "source": [
    "model_config = {\n",
    "    \"layer_size\": {\n",
    "        \"type\": \"int\",\n",
    "        \"low\": 16,\n",
    "        \"high\": 4096,\n",
    "        \"step\": 16\n",
    "    },\n",
    "    \"dropout\": {\n",
    "        \"type\": \"float\",\n",
    "        \"low\": 0.0,\n",
    "        \"high\": 1.0,\n",
    "    },\n",
    "    \"pooling_type\": {\n",
    "        \"type\": \"categorical\",\n",
    "        \"choices\": [\"max\", \"avg\"]\n",
    "    },\n",
    "    \"depth\": {\n",
    "        \"type\": \"int\",\n",
    "        \"low\": 0,\n",
    "        \"high\": 6,\n",
    "    }\n",
    "}\n",
    "\n",
    "pipeline_config = {\n",
    "    \"batch_size\": {\n",
    "        \"type\": \"int\",\n",
    "        \"low\": 8,\n",
    "        \"high\": 32,\n",
    "        \"step\": 8\n",
    "    },\n",
    "    \"epochs\": 4,\n",
    "    \"model_name\": \"trial\",\n",
    "    \"store_model\": True,\n",
    "    \"save_weights_only\": True,\n",
    "    \"patience\": 2,\n",
    "    \"compiler_config\": {\n",
    "        \"optimizer\": \"adam\",\n",
    "        \"loss\": \"sparse_categorical_crossentropy\",\n",
    "        \"metrics\": ['accuracy']\n",
    "    }\n",
    "}\n",
    "\n",
    "\n",
    "opt = ILSVRCOptunaSearch(name=\"trial\",\n",
    "                         n_trials=2,\n",
    "                         model=EfficientNetV2S,\n",
    "                         pipeline=EfficientNetPipeline,\n",
    "                         model_config=model_config,\n",
    "                         pipeline_config=pipeline_config)"
   ]
  },
  {
   "cell_type": "markdown",
   "metadata": {},
   "source": [
    "## III. Fitting the Model\n",
    "Next, we can continue by fitting the model to the data. This will create the model directory under Group04/models/trial, containing checkpoints and history. The fit method returns a json with history. The execution is fully resilient to crashes and as long as the models directory is intact, it will always remember its previous run. Try interupting and restarting the notebook to see what happens."
   ]
  },
  {
   "cell_type": "code",
   "execution_count": 12,
   "metadata": {},
   "outputs": [
    {
     "ename": "Exception",
     "evalue": "Invalid parent directory '//home/amadou/CodeWorkspace/Group04/models/trial/feature_extraction/mlflow/.trash'",
     "output_type": "error",
     "traceback": [
      "\u001b[0;31m---------------------------------------------------------------------------\u001b[0m",
      "\u001b[0;31mException\u001b[0m                                 Traceback (most recent call last)",
      "\u001b[1;32m/home/amadou/CodeWorkspace/Group04/notebooks/transfer_learning/ilsvrc_optuna_demo.ipynb Cell 8\u001b[0m in \u001b[0;36m<cell line: 1>\u001b[0;34m()\u001b[0m\n\u001b[0;32m----> <a href='vscode-notebook-cell:/home/amadou/CodeWorkspace/Group04/notebooks/transfer_learning/ilsvrc_optuna_demo.ipynb#X13sZmlsZQ%3D%3D?line=0'>1</a>\u001b[0m opt\u001b[39m.\u001b[39;49mrun(train_ds, val_ds)\n",
      "File \u001b[0;32m~/CodeWorkspace/Group04/src/optimization/ilsvrc.py:199\u001b[0m, in \u001b[0;36mILSVRCOptunaSearch.run\u001b[0;34m(self, train_ds, val_ds)\u001b[0m\n\u001b[1;32m    197\u001b[0m model_config \u001b[39m=\u001b[39m \u001b[39mself\u001b[39m\u001b[39m.\u001b[39mconvert_config(\u001b[39m\"\u001b[39m\u001b[39mfeature_extraction\u001b[39m\u001b[39m\"\u001b[39m, \u001b[39mself\u001b[39m\u001b[39m.\u001b[39mmodel_config)\n\u001b[1;32m    198\u001b[0m pipeline_config \u001b[39m=\u001b[39m \u001b[39mself\u001b[39m\u001b[39m.\u001b[39mconvert_config(\u001b[39m\"\u001b[39m\u001b[39mfeature_extraction\u001b[39m\u001b[39m\"\u001b[39m, \u001b[39mself\u001b[39m\u001b[39m.\u001b[39mpipeline_config)\n\u001b[0;32m--> 199\u001b[0m fe_searcher \u001b[39m=\u001b[39m FeatureExtractionOptunaSearch(\u001b[39mself\u001b[39;49m\u001b[39m.\u001b[39;49mname, \u001b[39mself\u001b[39;49m\u001b[39m.\u001b[39;49mmodel, \u001b[39mself\u001b[39;49m\u001b[39m.\u001b[39;49mpipeline,\n\u001b[1;32m    200\u001b[0m                                             model_config, pipeline_config, \u001b[39mself\u001b[39;49m\u001b[39m.\u001b[39;49mn_trials,\n\u001b[1;32m    201\u001b[0m                                             \u001b[39mself\u001b[39;49m\u001b[39m.\u001b[39;49mobjective_name)\n\u001b[1;32m    203\u001b[0m best_trial \u001b[39m=\u001b[39m \u001b[39mself\u001b[39m\u001b[39m.\u001b[39moptimize(fe_searcher, train_ds, val_ds)\n\u001b[1;32m    205\u001b[0m model_config \u001b[39m=\u001b[39m \u001b[39mself\u001b[39m\u001b[39m.\u001b[39mconvert_config(\u001b[39m\"\u001b[39m\u001b[39mfine_tuning\u001b[39m\u001b[39m\"\u001b[39m, \u001b[39mself\u001b[39m\u001b[39m.\u001b[39mmodel_config)\n",
      "File \u001b[0;32m~/CodeWorkspace/Group04/src/optimization/ilsvrc.py:441\u001b[0m, in \u001b[0;36mFeatureExtractionOptunaSearch.__init__\u001b[0;34m(self, run_name, model, pipeline, model_config, pipeline_config, n_trials, objective)\u001b[0m\n\u001b[1;32m    422\u001b[0m \u001b[39mdef\u001b[39;00m \u001b[39m__init__\u001b[39m(\u001b[39mself\u001b[39m,\n\u001b[1;32m    423\u001b[0m              run_name: \u001b[39mstr\u001b[39m,\n\u001b[1;32m    424\u001b[0m              model: \u001b[39mobject\u001b[39m,\n\u001b[0;32m   (...)\u001b[0m\n\u001b[1;32m    428\u001b[0m              n_trials: \u001b[39mint\u001b[39m,\n\u001b[1;32m    429\u001b[0m              objective: \u001b[39mstr\u001b[39m \u001b[39m=\u001b[39m \u001b[39m\"\u001b[39m\u001b[39mval_loss\u001b[39m\u001b[39m\"\u001b[39m) \u001b[39m-\u001b[39m\u001b[39m>\u001b[39m \u001b[39mNone\u001b[39;00m:\n\u001b[1;32m    430\u001b[0m     \u001b[39m\"\"\"\u001b[39;00m\n\u001b[1;32m    431\u001b[0m \u001b[39m    Initialize attributes an MLFlow.\u001b[39;00m\n\u001b[1;32m    432\u001b[0m \n\u001b[0;32m   (...)\u001b[0m\n\u001b[1;32m    439\u001b[0m \u001b[39m        n_trials (int): Number of trials to generate\u001b[39;00m\n\u001b[1;32m    440\u001b[0m \u001b[39m    \"\"\"\u001b[39;00m\n\u001b[0;32m--> 441\u001b[0m     \u001b[39msuper\u001b[39;49m()\u001b[39m.\u001b[39;49m\u001b[39m__init__\u001b[39;49m(\u001b[39m\"\u001b[39;49m\u001b[39mfeature_extraction\u001b[39;49m\u001b[39m\"\u001b[39;49m, run_name, model, pipeline, model_config,\n\u001b[1;32m    442\u001b[0m                      pipeline_config, n_trials)\n\u001b[1;32m    443\u001b[0m     \u001b[39mself\u001b[39m\u001b[39m.\u001b[39mobjective_name \u001b[39m=\u001b[39m objective\n\u001b[1;32m    444\u001b[0m     \u001b[39mself\u001b[39m\u001b[39m.\u001b[39mmanager \u001b[39m=\u001b[39m StudyManager(run_name, \u001b[39mself\u001b[39m\u001b[39m.\u001b[39mmodel_path, objective)\n",
      "File \u001b[0;32m~/CodeWorkspace/Group04/src/optimization/ilsvrc.py:249\u001b[0m, in \u001b[0;36mILSVRCAbstractStepSearch.__init__\u001b[0;34m(self, name, run_name, model, pipeline, model_config, pipeline_config, n_trials)\u001b[0m\n\u001b[1;32m    247\u001b[0m \u001b[39mself\u001b[39m\u001b[39m.\u001b[39mmlflow_path\u001b[39m.\u001b[39mmkdir(parents\u001b[39m=\u001b[39m\u001b[39mTrue\u001b[39;00m, exist_ok\u001b[39m=\u001b[39m\u001b[39mTrue\u001b[39;00m)\n\u001b[1;32m    248\u001b[0m mlflow\u001b[39m.\u001b[39mset_tracking_uri(\u001b[39mf\u001b[39m\u001b[39m\"\u001b[39m\u001b[39mfile:///\u001b[39m\u001b[39m{\u001b[39;00m\u001b[39mstr\u001b[39m(\u001b[39mself\u001b[39m\u001b[39m.\u001b[39mmlflow_path)\u001b[39m}\u001b[39;00m\u001b[39m\"\u001b[39m)\n\u001b[0;32m--> 249\u001b[0m \u001b[39mself\u001b[39;49m\u001b[39m.\u001b[39;49mset_experiment(\u001b[39mself\u001b[39;49m\u001b[39m.\u001b[39;49mmlflow_path)\n",
      "File \u001b[0;32m~/CodeWorkspace/Group04/src/optimization/ilsvrc.py:258\u001b[0m, in \u001b[0;36mILSVRCAbstractStepSearch.set_experiment\u001b[0;34m(self, path)\u001b[0m\n\u001b[1;32m    252\u001b[0m \u001b[39m\"\"\"Set MLFlow experiment\u001b[39;00m\n\u001b[1;32m    253\u001b[0m \n\u001b[1;32m    254\u001b[0m \u001b[39mArgs:\u001b[39;00m\n\u001b[1;32m    255\u001b[0m \u001b[39m    path (Path): MLFlow URI path\u001b[39;00m\n\u001b[1;32m    256\u001b[0m \u001b[39m\"\"\"\u001b[39;00m\n\u001b[1;32m    257\u001b[0m exp_name \u001b[39m=\u001b[39m \u001b[39mf\u001b[39m\u001b[39m\"\u001b[39m\u001b[39m{\u001b[39;00m\u001b[39mself\u001b[39m\u001b[39m.\u001b[39mrun_name\u001b[39m}\u001b[39;00m\u001b[39m_\u001b[39m\u001b[39m{\u001b[39;00m\u001b[39mself\u001b[39m\u001b[39m.\u001b[39mname\u001b[39m}\u001b[39;00m\u001b[39m\"\u001b[39m\n\u001b[0;32m--> 258\u001b[0m \u001b[39mif\u001b[39;00m \u001b[39mnot\u001b[39;00m mlflow\u001b[39m.\u001b[39;49mget_experiment_by_name(exp_name):\n\u001b[1;32m    259\u001b[0m     \u001b[39mself\u001b[39m\u001b[39m.\u001b[39mexperiment \u001b[39m=\u001b[39m mlflow\u001b[39m.\u001b[39mcreate_experiment(exp_name, artifact_location\u001b[39m=\u001b[39mpath\u001b[39m.\u001b[39mas_uri())\n\u001b[1;32m    260\u001b[0m \u001b[39melse\u001b[39;00m:\n",
      "File \u001b[0;32m~/.local/lib/python3.8/site-packages/mlflow/tracking/fluent.py:1042\u001b[0m, in \u001b[0;36mget_experiment_by_name\u001b[0;34m(name)\u001b[0m\n\u001b[1;32m   1014\u001b[0m \u001b[39mdef\u001b[39;00m \u001b[39mget_experiment_by_name\u001b[39m(name: \u001b[39mstr\u001b[39m) \u001b[39m-\u001b[39m\u001b[39m>\u001b[39m Optional[Experiment]:\n\u001b[1;32m   1015\u001b[0m     \u001b[39m\"\"\"\u001b[39;00m\n\u001b[1;32m   1016\u001b[0m \u001b[39m    Retrieve an experiment by experiment name from the backend store\u001b[39;00m\n\u001b[1;32m   1017\u001b[0m \n\u001b[0;32m   (...)\u001b[0m\n\u001b[1;32m   1040\u001b[0m \u001b[39m        Lifecycle_stage: active\u001b[39;00m\n\u001b[1;32m   1041\u001b[0m \u001b[39m    \"\"\"\u001b[39;00m\n\u001b[0;32m-> 1042\u001b[0m     \u001b[39mreturn\u001b[39;00m MlflowClient()\u001b[39m.\u001b[39;49mget_experiment_by_name(name)\n",
      "File \u001b[0;32m~/.local/lib/python3.8/site-packages/mlflow/tracking/client.py:566\u001b[0m, in \u001b[0;36mMlflowClient.get_experiment_by_name\u001b[0;34m(self, name)\u001b[0m\n\u001b[1;32m    535\u001b[0m \u001b[39mdef\u001b[39;00m \u001b[39mget_experiment_by_name\u001b[39m(\u001b[39mself\u001b[39m, name: \u001b[39mstr\u001b[39m) \u001b[39m-\u001b[39m\u001b[39m>\u001b[39m Optional[Experiment]:\n\u001b[1;32m    536\u001b[0m     \u001b[39m\"\"\"\u001b[39;00m\n\u001b[1;32m    537\u001b[0m \u001b[39m    Retrieve an experiment by experiment name from the backend store\u001b[39;00m\n\u001b[1;32m    538\u001b[0m \n\u001b[0;32m   (...)\u001b[0m\n\u001b[1;32m    564\u001b[0m \u001b[39m        Lifecycle_stage: active\u001b[39;00m\n\u001b[1;32m    565\u001b[0m \u001b[39m    \"\"\"\u001b[39;00m\n\u001b[0;32m--> 566\u001b[0m     \u001b[39mreturn\u001b[39;00m \u001b[39mself\u001b[39;49m\u001b[39m.\u001b[39;49m_tracking_client\u001b[39m.\u001b[39;49mget_experiment_by_name(name)\n",
      "File \u001b[0;32m~/.local/lib/python3.8/site-packages/mlflow/tracking/_tracking_service/client.py:226\u001b[0m, in \u001b[0;36mTrackingServiceClient.get_experiment_by_name\u001b[0;34m(self, name)\u001b[0m\n\u001b[1;32m    221\u001b[0m \u001b[39mdef\u001b[39;00m \u001b[39mget_experiment_by_name\u001b[39m(\u001b[39mself\u001b[39m, name):\n\u001b[1;32m    222\u001b[0m     \u001b[39m\"\"\"\u001b[39;00m\n\u001b[1;32m    223\u001b[0m \u001b[39m    :param name: The experiment name.\u001b[39;00m\n\u001b[1;32m    224\u001b[0m \u001b[39m    :return: :py:class:`mlflow.entities.Experiment`\u001b[39;00m\n\u001b[1;32m    225\u001b[0m \u001b[39m    \"\"\"\u001b[39;00m\n\u001b[0;32m--> 226\u001b[0m     \u001b[39mreturn\u001b[39;00m \u001b[39mself\u001b[39;49m\u001b[39m.\u001b[39;49mstore\u001b[39m.\u001b[39;49mget_experiment_by_name(name)\n",
      "File \u001b[0;32m~/.local/lib/python3.8/site-packages/mlflow/store/tracking/abstract_store.py:127\u001b[0m, in \u001b[0;36mAbstractStore.get_experiment_by_name\u001b[0;34m(self, experiment_name)\u001b[0m\n\u001b[1;32m    117\u001b[0m \u001b[39mdef\u001b[39;00m \u001b[39mget_experiment_by_name\u001b[39m(\u001b[39mself\u001b[39m, experiment_name):\n\u001b[1;32m    118\u001b[0m     \u001b[39m\"\"\"\u001b[39;00m\n\u001b[1;32m    119\u001b[0m \u001b[39m    Fetch the experiment by name from the backend store.\u001b[39;00m\n\u001b[1;32m    120\u001b[0m \u001b[39m    This is a base implementation using ``list_experiments``, derived classes may have\u001b[39;00m\n\u001b[0;32m   (...)\u001b[0m\n\u001b[1;32m    125\u001b[0m \u001b[39m    :return: A single :py:class:`mlflow.entities.Experiment` object if it exists.\u001b[39;00m\n\u001b[1;32m    126\u001b[0m \u001b[39m    \"\"\"\u001b[39;00m\n\u001b[0;32m--> 127\u001b[0m     \u001b[39mfor\u001b[39;00m experiment \u001b[39min\u001b[39;00m \u001b[39mself\u001b[39;49m\u001b[39m.\u001b[39;49mlist_experiments(ViewType\u001b[39m.\u001b[39;49mALL):\n\u001b[1;32m    128\u001b[0m         \u001b[39mif\u001b[39;00m experiment\u001b[39m.\u001b[39mname \u001b[39m==\u001b[39m experiment_name:\n\u001b[1;32m    129\u001b[0m             \u001b[39mreturn\u001b[39;00m experiment\n",
      "File \u001b[0;32m~/.local/lib/python3.8/site-packages/mlflow/store/tracking/file_store.py:264\u001b[0m, in \u001b[0;36mFileStore.list_experiments\u001b[0;34m(self, view_type, max_results, page_token)\u001b[0m\n\u001b[1;32m    262\u001b[0m     rsl \u001b[39m+\u001b[39m\u001b[39m=\u001b[39m \u001b[39mself\u001b[39m\u001b[39m.\u001b[39m_get_active_experiments(full_path\u001b[39m=\u001b[39m\u001b[39mFalse\u001b[39;00m)\n\u001b[1;32m    263\u001b[0m \u001b[39mif\u001b[39;00m view_type \u001b[39m==\u001b[39m ViewType\u001b[39m.\u001b[39mDELETED_ONLY \u001b[39mor\u001b[39;00m view_type \u001b[39m==\u001b[39m ViewType\u001b[39m.\u001b[39mALL:\n\u001b[0;32m--> 264\u001b[0m     rsl \u001b[39m+\u001b[39m\u001b[39m=\u001b[39m \u001b[39mself\u001b[39;49m\u001b[39m.\u001b[39;49m_get_deleted_experiments(full_path\u001b[39m=\u001b[39;49m\u001b[39mFalse\u001b[39;49;00m)\n\u001b[1;32m    266\u001b[0m experiments \u001b[39m=\u001b[39m []\n\u001b[1;32m    267\u001b[0m \u001b[39mfor\u001b[39;00m exp_id \u001b[39min\u001b[39;00m rsl:\n",
      "File \u001b[0;32m~/.local/lib/python3.8/site-packages/mlflow/store/tracking/file_store.py:240\u001b[0m, in \u001b[0;36mFileStore._get_deleted_experiments\u001b[0;34m(self, full_path)\u001b[0m\n\u001b[1;32m    239\u001b[0m \u001b[39mdef\u001b[39;00m \u001b[39m_get_deleted_experiments\u001b[39m(\u001b[39mself\u001b[39m, full_path\u001b[39m=\u001b[39m\u001b[39mFalse\u001b[39;00m):\n\u001b[0;32m--> 240\u001b[0m     \u001b[39mreturn\u001b[39;00m list_subdirs(\u001b[39mself\u001b[39;49m\u001b[39m.\u001b[39;49mtrash_folder, full_path)\n",
      "File \u001b[0;32m~/.local/lib/python3.8/site-packages/mlflow/utils/file_utils.py:74\u001b[0m, in \u001b[0;36mlist_subdirs\u001b[0;34m(dir_name, full_path)\u001b[0m\n\u001b[1;32m     64\u001b[0m \u001b[39mdef\u001b[39;00m \u001b[39mlist_subdirs\u001b[39m(dir_name, full_path\u001b[39m=\u001b[39m\u001b[39mFalse\u001b[39;00m):\n\u001b[1;32m     65\u001b[0m     \u001b[39m\"\"\"\u001b[39;00m\n\u001b[1;32m     66\u001b[0m \u001b[39m    Equivalent to UNIX command:\u001b[39;00m\n\u001b[1;32m     67\u001b[0m \u001b[39m      ``find $dir_name -depth 1 -type d``\u001b[39;00m\n\u001b[0;32m   (...)\u001b[0m\n\u001b[1;32m     72\u001b[0m \u001b[39m    :return: list of all directories directly under 'dir_name'\u001b[39;00m\n\u001b[1;32m     73\u001b[0m \u001b[39m    \"\"\"\u001b[39;00m\n\u001b[0;32m---> 74\u001b[0m     \u001b[39mreturn\u001b[39;00m list_all(dir_name, os\u001b[39m.\u001b[39;49mpath\u001b[39m.\u001b[39;49misdir, full_path)\n",
      "File \u001b[0;32m~/.local/lib/python3.8/site-packages/mlflow/utils/file_utils.py:59\u001b[0m, in \u001b[0;36mlist_all\u001b[0;34m(root, filter_func, full_path)\u001b[0m\n\u001b[1;32m     49\u001b[0m \u001b[39m\"\"\"\u001b[39;00m\n\u001b[1;32m     50\u001b[0m \u001b[39mList all entities directly under 'dir_name' that satisfy 'filter_func'\u001b[39;00m\n\u001b[1;32m     51\u001b[0m \n\u001b[0;32m   (...)\u001b[0m\n\u001b[1;32m     56\u001b[0m \u001b[39m:return: list of all files or directories that satisfy the criteria.\u001b[39;00m\n\u001b[1;32m     57\u001b[0m \u001b[39m\"\"\"\u001b[39;00m\n\u001b[1;32m     58\u001b[0m \u001b[39mif\u001b[39;00m \u001b[39mnot\u001b[39;00m is_directory(root):\n\u001b[0;32m---> 59\u001b[0m     \u001b[39mraise\u001b[39;00m \u001b[39mException\u001b[39;00m(\u001b[39m\"\u001b[39m\u001b[39mInvalid parent directory \u001b[39m\u001b[39m'\u001b[39m\u001b[39m%s\u001b[39;00m\u001b[39m'\u001b[39m\u001b[39m\"\u001b[39m \u001b[39m%\u001b[39m root)\n\u001b[1;32m     60\u001b[0m matches \u001b[39m=\u001b[39m [x \u001b[39mfor\u001b[39;00m x \u001b[39min\u001b[39;00m os\u001b[39m.\u001b[39mlistdir(root) \u001b[39mif\u001b[39;00m filter_func(os\u001b[39m.\u001b[39mpath\u001b[39m.\u001b[39mjoin(root, x))]\n\u001b[1;32m     61\u001b[0m \u001b[39mreturn\u001b[39;00m [os\u001b[39m.\u001b[39mpath\u001b[39m.\u001b[39mjoin(root, m) \u001b[39mfor\u001b[39;00m m \u001b[39min\u001b[39;00m matches] \u001b[39mif\u001b[39;00m full_path \u001b[39melse\u001b[39;00m matches\n",
      "\u001b[0;31mException\u001b[0m: Invalid parent directory '//home/amadou/CodeWorkspace/Group04/models/trial/feature_extraction/mlflow/.trash'"
     ]
    }
   ],
   "source": [
    "opt.run(train_ds, val_ds)"
   ]
  },
  {
   "cell_type": "code",
   "execution_count": null,
   "metadata": {},
   "outputs": [],
   "source": []
  }
 ],
 "metadata": {
  "kernelspec": {
   "display_name": "Python 3.8.10 64-bit",
   "language": "python",
   "name": "python3"
  },
  "language_info": {
   "codemirror_mode": {
    "name": "ipython",
    "version": 3
   },
   "file_extension": ".py",
   "mimetype": "text/x-python",
   "name": "python",
   "nbconvert_exporter": "python",
   "pygments_lexer": "ipython3",
   "version": "3.8.10"
  },
  "orig_nbformat": 4,
  "vscode": {
   "interpreter": {
    "hash": "916dbcbb3f70747c44a77c7bcd40155683ae19c65e1c03b4aa3499c5328201f1"
   }
  }
 },
 "nbformat": 4,
 "nbformat_minor": 2
}
